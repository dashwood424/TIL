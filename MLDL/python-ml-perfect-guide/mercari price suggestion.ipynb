{
 "cells": [
  {
   "cell_type": "markdown",
   "metadata": {
    "colab_type": "text",
    "id": "9_s0bNfJ0_0w"
   },
   "source": [
    "### 8-10 Mercari Price Suggestion Challenge"
   ]
  },
  {
   "cell_type": "code",
   "execution_count": 3,
   "metadata": {
    "colab": {
     "base_uri": "https://localhost:8080/",
     "height": 55
    },
    "colab_type": "code",
    "id": "O67pAuUzr1NK",
    "outputId": "8a9e7d79-9b6e-403a-ee7a-8c63db1f71d4"
   },
   "outputs": [
    {
     "name": "stdout",
     "output_type": "stream",
     "text": [
      "total 329893\n",
      "-rw------- 1 root root 337809843 Feb 29 15:49 mercari_train.tsv\n"
     ]
    }
   ],
   "source": [
    "!cd \"/content/drive/My Drive/data\"; ls -l"
   ]
  },
  {
   "cell_type": "code",
   "execution_count": 4,
   "metadata": {
    "colab": {
     "base_uri": "https://localhost:8080/",
     "height": 1000
    },
    "colab_type": "code",
    "id": "sz-OEtmyzbqo",
    "outputId": "363c7c6d-4d0f-450b-e136-2d1afd204099"
   },
   "outputs": [
    {
     "name": "stdout",
     "output_type": "stream",
     "text": [
      "MemTotal:       13335188 kB\n",
      "MemFree:        10723196 kB\n",
      "MemAvailable:   12503456 kB\n",
      "Buffers:           75068 kB\n",
      "Cached:          1854932 kB\n",
      "SwapCached:            0 kB\n",
      "Active:           721536 kB\n",
      "Inactive:        1640056 kB\n",
      "Active(anon):     404736 kB\n",
      "Inactive(anon):      324 kB\n",
      "Active(file):     316800 kB\n",
      "Inactive(file):  1639732 kB\n",
      "Unevictable:           0 kB\n",
      "Mlocked:               0 kB\n",
      "SwapTotal:             0 kB\n",
      "SwapFree:              0 kB\n",
      "Dirty:              1160 kB\n",
      "Writeback:             0 kB\n",
      "AnonPages:        431692 kB\n",
      "Mapped:           242864 kB\n",
      "Shmem:               856 kB\n",
      "Slab:             159964 kB\n",
      "SReclaimable:     129396 kB\n",
      "SUnreclaim:        30568 kB\n",
      "KernelStack:        4128 kB\n",
      "PageTables:         6088 kB\n",
      "NFS_Unstable:          0 kB\n",
      "Bounce:                0 kB\n",
      "WritebackTmp:          0 kB\n",
      "CommitLimit:     6667592 kB\n",
      "Committed_AS:    3075832 kB\n",
      "VmallocTotal:   34359738367 kB\n",
      "VmallocUsed:           0 kB\n",
      "VmallocChunk:          0 kB\n",
      "AnonHugePages:         0 kB\n",
      "ShmemHugePages:        0 kB\n",
      "ShmemPmdMapped:        0 kB\n",
      "HugePages_Total:       0\n",
      "HugePages_Free:        0\n",
      "HugePages_Rsvd:        0\n",
      "HugePages_Surp:        0\n",
      "Hugepagesize:       2048 kB\n",
      "DirectMap4k:       65524 kB\n",
      "DirectMap2M:     5177344 kB\n",
      "DirectMap1G:    10485760 kB\n",
      "processor\t: 0\n",
      "vendor_id\t: GenuineIntel\n",
      "cpu family\t: 6\n",
      "model\t\t: 63\n",
      "model name\t: Intel(R) Xeon(R) CPU @ 2.30GHz\n",
      "stepping\t: 0\n",
      "microcode\t: 0x1\n",
      "cpu MHz\t\t: 2300.000\n",
      "cache size\t: 46080 KB\n",
      "physical id\t: 0\n",
      "siblings\t: 2\n",
      "core id\t\t: 0\n",
      "cpu cores\t: 1\n",
      "apicid\t\t: 0\n",
      "initial apicid\t: 0\n",
      "fpu\t\t: yes\n",
      "fpu_exception\t: yes\n",
      "cpuid level\t: 13\n",
      "wp\t\t: yes\n",
      "flags\t\t: fpu vme de pse tsc msr pae mce cx8 apic sep mtrr pge mca cmov pat pse36 clflush mmx fxsr sse sse2 ss ht syscall nx pdpe1gb rdtscp lm constant_tsc rep_good nopl xtopology nonstop_tsc cpuid tsc_known_freq pni pclmulqdq ssse3 fma cx16 pcid sse4_1 sse4_2 x2apic movbe popcnt aes xsave avx f16c rdrand hypervisor lahf_lm abm invpcid_single ssbd ibrs ibpb stibp fsgsbase tsc_adjust bmi1 avx2 smep bmi2 erms invpcid xsaveopt arat md_clear arch_capabilities\n",
      "bugs\t\t: cpu_meltdown spectre_v1 spectre_v2 spec_store_bypass l1tf mds swapgs\n",
      "bogomips\t: 4600.00\n",
      "clflush size\t: 64\n",
      "cache_alignment\t: 64\n",
      "address sizes\t: 46 bits physical, 48 bits virtual\n",
      "power management:\n",
      "\n",
      "processor\t: 1\n",
      "vendor_id\t: GenuineIntel\n",
      "cpu family\t: 6\n",
      "model\t\t: 63\n",
      "model name\t: Intel(R) Xeon(R) CPU @ 2.30GHz\n",
      "stepping\t: 0\n",
      "microcode\t: 0x1\n",
      "cpu MHz\t\t: 2300.000\n",
      "cache size\t: 46080 KB\n",
      "physical id\t: 0\n",
      "siblings\t: 2\n",
      "core id\t\t: 0\n",
      "cpu cores\t: 1\n",
      "apicid\t\t: 1\n",
      "initial apicid\t: 1\n",
      "fpu\t\t: yes\n",
      "fpu_exception\t: yes\n",
      "cpuid level\t: 13\n",
      "wp\t\t: yes\n",
      "flags\t\t: fpu vme de pse tsc msr pae mce cx8 apic sep mtrr pge mca cmov pat pse36 clflush mmx fxsr sse sse2 ss ht syscall nx pdpe1gb rdtscp lm constant_tsc rep_good nopl xtopology nonstop_tsc cpuid tsc_known_freq pni pclmulqdq ssse3 fma cx16 pcid sse4_1 sse4_2 x2apic movbe popcnt aes xsave avx f16c rdrand hypervisor lahf_lm abm invpcid_single ssbd ibrs ibpb stibp fsgsbase tsc_adjust bmi1 avx2 smep bmi2 erms invpcid xsaveopt arat md_clear arch_capabilities\n",
      "bugs\t\t: cpu_meltdown spectre_v1 spectre_v2 spec_store_bypass l1tf mds swapgs\n",
      "bogomips\t: 4600.00\n",
      "clflush size\t: 64\n",
      "cache_alignment\t: 64\n",
      "address sizes\t: 46 bits physical, 48 bits virtual\n",
      "power management:\n",
      "\n"
     ]
    }
   ],
   "source": [
    "!cat /proc/meminfo;cat /proc/cpuinfo"
   ]
  },
  {
   "cell_type": "markdown",
   "metadata": {
    "colab_type": "text",
    "id": "Aqah4tZ1zkL9"
   },
   "source": [
    "**데이터 전처리**"
   ]
  },
  {
   "cell_type": "code",
   "execution_count": 7,
   "metadata": {
    "colab": {
     "base_uri": "https://localhost:8080/",
     "height": 211
    },
    "colab_type": "code",
    "id": "LaS1QDE3ze4B",
    "outputId": "c1a356d4-e243-4649-935f-11b1c1c759e0"
   },
   "outputs": [
    {
     "name": "stdout",
     "output_type": "stream",
     "text": [
      "(1482535, 8)\n"
     ]
    },
    {
     "data": {
      "text/html": [
       "<div>\n",
       "<style scoped>\n",
       "    .dataframe tbody tr th:only-of-type {\n",
       "        vertical-align: middle;\n",
       "    }\n",
       "\n",
       "    .dataframe tbody tr th {\n",
       "        vertical-align: top;\n",
       "    }\n",
       "\n",
       "    .dataframe thead th {\n",
       "        text-align: right;\n",
       "    }\n",
       "</style>\n",
       "<table border=\"1\" class=\"dataframe\">\n",
       "  <thead>\n",
       "    <tr style=\"text-align: right;\">\n",
       "      <th></th>\n",
       "      <th>train_id</th>\n",
       "      <th>name</th>\n",
       "      <th>item_condition_id</th>\n",
       "      <th>category_name</th>\n",
       "      <th>brand_name</th>\n",
       "      <th>price</th>\n",
       "      <th>shipping</th>\n",
       "      <th>item_description</th>\n",
       "    </tr>\n",
       "  </thead>\n",
       "  <tbody>\n",
       "    <tr>\n",
       "      <th>0</th>\n",
       "      <td>0</td>\n",
       "      <td>MLB Cincinnati Reds T Shirt Size XL</td>\n",
       "      <td>3</td>\n",
       "      <td>Men/Tops/T-shirts</td>\n",
       "      <td>NaN</td>\n",
       "      <td>10.0</td>\n",
       "      <td>1</td>\n",
       "      <td>No description yet</td>\n",
       "    </tr>\n",
       "    <tr>\n",
       "      <th>1</th>\n",
       "      <td>1</td>\n",
       "      <td>Razer BlackWidow Chroma Keyboard</td>\n",
       "      <td>3</td>\n",
       "      <td>Electronics/Computers &amp; Tablets/Components &amp; P...</td>\n",
       "      <td>Razer</td>\n",
       "      <td>52.0</td>\n",
       "      <td>0</td>\n",
       "      <td>This keyboard is in great condition and works ...</td>\n",
       "    </tr>\n",
       "    <tr>\n",
       "      <th>2</th>\n",
       "      <td>2</td>\n",
       "      <td>AVA-VIV Blouse</td>\n",
       "      <td>1</td>\n",
       "      <td>Women/Tops &amp; Blouses/Blouse</td>\n",
       "      <td>Target</td>\n",
       "      <td>10.0</td>\n",
       "      <td>1</td>\n",
       "      <td>Adorable top with a hint of lace and a key hol...</td>\n",
       "    </tr>\n",
       "  </tbody>\n",
       "</table>\n",
       "</div>"
      ],
      "text/plain": [
       "   train_id  ...                                   item_description\n",
       "0         0  ...                                 No description yet\n",
       "1         1  ...  This keyboard is in great condition and works ...\n",
       "2         2  ...  Adorable top with a hint of lace and a key hol...\n",
       "\n",
       "[3 rows x 8 columns]"
      ]
     },
     "execution_count": 7,
     "metadata": {
      "tags": []
     },
     "output_type": "execute_result"
    }
   ],
   "source": [
    "from sklearn.linear_model import Ridge, LogisticRegression\n",
    "from sklearn.model_selection import train_test_split, cross_val_score\n",
    "from sklearn.feature_extraction.text import CountVectorizer, TfidfVectorizer\n",
    "import pandas as pd\n",
    "\n",
    "mercari_df=pd.read_csv('/content/drive/My Drive/data/mercari_train.tsv', sep='\\t')\n",
    "print(mercari_df.shape)\n",
    "mercari_df.head(3)"
   ]
  },
  {
   "cell_type": "code",
   "execution_count": 8,
   "metadata": {
    "colab": {
     "base_uri": "https://localhost:8080/",
     "height": 279
    },
    "colab_type": "code",
    "id": "-xZwbwflzmaq",
    "outputId": "13e7300d-4d29-4f9d-d7a7-a983f1957263"
   },
   "outputs": [
    {
     "name": "stdout",
     "output_type": "stream",
     "text": [
      "<class 'pandas.core.frame.DataFrame'>\n",
      "RangeIndex: 1482535 entries, 0 to 1482534\n",
      "Data columns (total 8 columns):\n",
      "train_id             1482535 non-null int64\n",
      "name                 1482535 non-null object\n",
      "item_condition_id    1482535 non-null int64\n",
      "category_name        1476208 non-null object\n",
      "brand_name           849853 non-null object\n",
      "price                1482535 non-null float64\n",
      "shipping             1482535 non-null int64\n",
      "item_description     1482531 non-null object\n",
      "dtypes: float64(1), int64(3), object(4)\n",
      "memory usage: 90.5+ MB\n",
      "None\n"
     ]
    }
   ],
   "source": [
    "print(mercari_df.info())"
   ]
  },
  {
   "cell_type": "markdown",
   "metadata": {
    "colab_type": "text",
    "id": "GugV6jW90po0"
   },
   "source": [
    "brand_name 칼럼의 경우 null값이 매우 많음"
   ]
  },
  {
   "cell_type": "markdown",
   "metadata": {
    "colab_type": "text",
    "id": "c0yVEEPi0zGW"
   },
   "source": [
    "**타겟값의 분포 확인**"
   ]
  },
  {
   "cell_type": "code",
   "execution_count": 9,
   "metadata": {
    "colab": {
     "base_uri": "https://localhost:8080/",
     "height": 298
    },
    "colab_type": "code",
    "id": "iEkSnvZi0nk6",
    "outputId": "7f1b55e7-a1e5-44ae-da29-7728cded3c5b"
   },
   "outputs": [
    {
     "data": {
      "text/plain": [
       "<matplotlib.axes._subplots.AxesSubplot at 0x7f9bd4ddd898>"
      ]
     },
     "execution_count": 9,
     "metadata": {
      "tags": []
     },
     "output_type": "execute_result"
    },
    {
     "data": {
      "image/png": "[encoded data removed]",
      "text/plain": [
       "<Figure size 432x288 with 1 Axes>"
      ]
     },
     "metadata": {
      "tags": []
     },
     "output_type": "display_data"
    }
   ],
   "source": [
    "import matplotlib.pyplot as plt\n",
    "import seaborn as sns\n",
    "%matplotlib inline\n",
    "\n",
    "y_train_df=mercari_df['price']\n",
    "plt.figure(figsize=(6, 4))\n",
    "sns.distplot(y_train_df, kde=False)"
   ]
  },
  {
   "cell_type": "code",
   "execution_count": 10,
   "metadata": {
    "colab": {
     "base_uri": "https://localhost:8080/",
     "height": 298
    },
    "colab_type": "code",
    "id": "qzzuJqI71j4F",
    "outputId": "a38e52a1-7b18-4461-acfc-a2df9c6e442d"
   },
   "outputs": [
    {
     "data": {
      "text/plain": [
       "<matplotlib.axes._subplots.AxesSubplot at 0x7f9bd3bc3278>"
      ]
     },
     "execution_count": 10,
     "metadata": {
      "tags": []
     },
     "output_type": "execute_result"
    },
    {
     "data": {
      "image/png": "[encoded data removed]",
      "text/plain": [
       "<Figure size 432x288 with 1 Axes>"
      ]
     },
     "metadata": {
      "tags": []
     },
     "output_type": "display_data"
    }
   ],
   "source": [
    "import numpy as np\n",
    "\n",
    "y_train_df=np.log1p(y_train_df)\n",
    "sns.distplot(y_train_df, kde=False)"
   ]
  },
  {
   "cell_type": "code",
   "execution_count": 11,
   "metadata": {
    "colab": {
     "base_uri": "https://localhost:8080/",
     "height": 129
    },
    "colab_type": "code",
    "id": "1AAuQyP21xhG",
    "outputId": "a7708f33-41f4-42b1-fd71-cf3d49c56eaf"
   },
   "outputs": [
    {
     "data": {
      "text/plain": [
       "0    2.397895\n",
       "1    3.970292\n",
       "2    2.397895\n",
       "3    3.583519\n",
       "4    3.806662\n",
       "Name: price, dtype: float64"
      ]
     },
     "execution_count": 11,
     "metadata": {
      "tags": []
     },
     "output_type": "execute_result"
    }
   ],
   "source": [
    "mercari_df['price']=np.log1p(mercari_df['price'])\n",
    "mercari_df['price'].head()"
   ]
  },
  {
   "cell_type": "code",
   "execution_count": 12,
   "metadata": {
    "colab": {
     "base_uri": "https://localhost:8080/",
     "height": 223
    },
    "colab_type": "code",
    "id": "aE4gzsKY18e_",
    "outputId": "5d270374-a934-42dd-ace2-0a5e817b9f0b"
   },
   "outputs": [
    {
     "name": "stdout",
     "output_type": "stream",
     "text": [
      "Shipping 값 유형:\n",
      " 0    819435\n",
      "1    663100\n",
      "Name: shipping, dtype: int64\n",
      "item_condition_id 값 유형:\n",
      " 1    640549\n",
      "3    432161\n",
      "2    375479\n",
      "4     31962\n",
      "5      2384\n",
      "Name: item_condition_id, dtype: int64\n"
     ]
    }
   ],
   "source": [
    "print('Shipping 값 유형:\\n', mercari_df['shipping'].value_counts()) # 배송비 유무\n",
    "print('item_condition_id 값 유형:\\n', mercari_df['item_condition_id'].value_counts()) "
   ]
  },
  {
   "cell_type": "code",
   "execution_count": 13,
   "metadata": {
    "colab": {
     "base_uri": "https://localhost:8080/",
     "height": 36
    },
    "colab_type": "code",
    "id": "zouoQh-v2Pap",
    "outputId": "b3d9881a-b7f8-4ac4-f82f-3e71c9aa6807"
   },
   "outputs": [
    {
     "data": {
      "text/plain": [
       "82489"
      ]
     },
     "execution_count": 13,
     "metadata": {
      "tags": []
     },
     "output_type": "execute_result"
    }
   ],
   "source": [
    "boolean_cond=mercari_df['item_description']=='No description yet'\n",
    "mercari_df[boolean_cond]['item_description'].count()"
   ]
  },
  {
   "cell_type": "code",
   "execution_count": 0,
   "metadata": {
    "colab": {},
    "colab_type": "code",
    "id": "9erUzwiS2qXE"
   },
   "outputs": [],
   "source": [
    "# apply lambda에서 호출되는 대, 중, 소 분할 함수 생성. 대, 중, 소 값을 리스트로 반환\n",
    "def split_cat(category_name):\n",
    "  try:\n",
    "    return category_name.split('/')\n",
    "  except:\n",
    "    return ['Other_Null', 'Other_Null', 'Other_Null']\n",
    "\n",
    "# 위의 split_cat()을 apply lambda에서 호출해 대, 중, 소 칼럼을 mecari_df에 생성\n",
    "mercari_df['cat_dae'], mercari_df['cat_jung'], mercari_df['cat_so']=zip(*mercari_df['category_name'].apply(lambda x:split_cat(x)))"
   ]
  },
  {
   "cell_type": "code",
   "execution_count": 16,
   "metadata": {
    "colab": {
     "base_uri": "https://localhost:8080/",
     "height": 297
    },
    "colab_type": "code",
    "id": "au-5mW683wW9",
    "outputId": "a0f5568e-301d-447d-f748-e64215ea520d"
   },
   "outputs": [
    {
     "name": "stdout",
     "output_type": "stream",
     "text": [
      "대분류 유형:\n",
      " Women                     664385\n",
      "Beauty                    207828\n",
      "Kids                      171689\n",
      "Electronics               122690\n",
      "Men                        93680\n",
      "Home                       67871\n",
      "Vintage & Collectibles     46530\n",
      "Other                      45351\n",
      "Handmade                   30842\n",
      "Sports & Outdoors          25342\n",
      "Other_Null                  6327\n",
      "Name: cat_dae, dtype: int64\n",
      "중분류 개수: 114\n",
      "소분류 개수: 871\n"
     ]
    }
   ],
   "source": [
    "print('대분류 유형:\\n', mercari_df['cat_dae'].value_counts())\n",
    "print('중분류 개수:', mercari_df['cat_jung'].nunique())\n",
    "print('소분류 개수:', mercari_df['cat_so'].nunique())"
   ]
  },
  {
   "cell_type": "code",
   "execution_count": 17,
   "metadata": {
    "colab": {
     "base_uri": "https://localhost:8080/",
     "height": 241
    },
    "colab_type": "code",
    "id": "Y5DfopEn4Wby",
    "outputId": "bcb25ef4-e924-473d-96d0-8cf61147ebb3"
   },
   "outputs": [
    {
     "data": {
      "text/plain": [
       "train_id             0\n",
       "name                 0\n",
       "item_condition_id    0\n",
       "category_name        0\n",
       "brand_name           0\n",
       "price                0\n",
       "shipping             0\n",
       "item_description     0\n",
       "cat_dae              0\n",
       "cat_jung             0\n",
       "cat_so               0\n",
       "dtype: int64"
      ]
     },
     "execution_count": 17,
     "metadata": {
      "tags": []
     },
     "output_type": "execute_result"
    }
   ],
   "source": [
    "mercari_df['brand_name']=mercari_df['brand_name'].fillna(value='Other_Null')\n",
    "mercari_df['category_name']=mercari_df['category_name'].fillna(value='Other_Null')\n",
    "mercari_df['item_description']=mercari_df['item_description'].fillna(value='Other_Null')\n",
    "\n",
    "# 각 칼럼별로 Null값 건수 확인\n",
    "mercari_df.isnull().sum()"
   ]
  },
  {
   "cell_type": "markdown",
   "metadata": {
    "colab_type": "text",
    "id": "Khhu_GAw4-tv"
   },
   "source": [
    "**피처 인코딩과 피처 벡터화**"
   ]
  },
  {
   "cell_type": "markdown",
   "metadata": {
    "colab_type": "text",
    "id": "iJGGpKN15RZk"
   },
   "source": [
    "**brand name과 name의 종류 확인**"
   ]
  },
  {
   "cell_type": "code",
   "execution_count": 18,
   "metadata": {
    "colab": {
     "base_uri": "https://localhost:8080/",
     "height": 167
    },
    "colab_type": "code",
    "id": "fD6w4Uef48uD",
    "outputId": "5e1361a5-121f-4255-9760-2998376f7474"
   },
   "outputs": [
    {
     "name": "stdout",
     "output_type": "stream",
     "text": [
      "brand name의 유형 건수: 4810\n",
      "brand name sample 5건:\n",
      " Other_Null           632682\n",
      "PINK                  54088\n",
      "Nike                  54043\n",
      "Victoria's Secret     48036\n",
      "LuLaRoe               31024\n",
      "Name: brand_name, dtype: int64\n"
     ]
    }
   ],
   "source": [
    "print('brand name의 유형 건수:', mercari_df['brand_name'].nunique()) # 원-핫 인코딩 변환하기\n",
    "print('brand name sample 5건:\\n', mercari_df['brand_name'].value_counts()[:5])"
   ]
  },
  {
   "cell_type": "code",
   "execution_count": 19,
   "metadata": {
    "colab": {
     "base_uri": "https://localhost:8080/",
     "height": 204
    },
    "colab_type": "code",
    "id": "H1Hhc5zm5jX_",
    "outputId": "bfb86c4e-1efd-40bc-b578-cc1f98ab1589"
   },
   "outputs": [
    {
     "name": "stdout",
     "output_type": "stream",
     "text": [
      "name 의 종류 갯수 : 1225273\n",
      "name sample 7건 : \n",
      " 0    MLB Cincinnati Reds T Shirt Size XL\n",
      "1       Razer BlackWidow Chroma Keyboard\n",
      "2                         AVA-VIV Blouse\n",
      "3                  Leather Horse Statues\n",
      "4                   24K GOLD plated rose\n",
      "5       Bundled items requested for Ruie\n",
      "6     Acacia pacific tides santorini top\n",
      "Name: name, dtype: object\n"
     ]
    }
   ],
   "source": [
    "print('name 의 종류 갯수 :', mercari_df['name'].nunique())\n",
    "print('name sample 7건 : \\n', mercari_df['name'][:7])"
   ]
  },
  {
   "cell_type": "markdown",
   "metadata": {
    "colab_type": "text",
    "id": "Wr6mYOXL6rj2"
   },
   "source": [
    "**item_description의 문자열 개수 확인**"
   ]
  },
  {
   "cell_type": "code",
   "execution_count": 20,
   "metadata": {
    "colab": {
     "base_uri": "https://localhost:8080/",
     "height": 112
    },
    "colab_type": "code",
    "id": "k9QXfY646jKs",
    "outputId": "fc80bca6-cd3f-4563-ac8d-009a46551320"
   },
   "outputs": [
    {
     "name": "stdout",
     "output_type": "stream",
     "text": [
      "item_description 평균 문자열 크기: 145.7113889385411\n"
     ]
    },
    {
     "data": {
      "text/plain": [
       "0                                                                                                                                                                              No description yet\n",
       "1    This keyboard is in great condition and works like it came out of the box. All of the ports are tested and work perfectly. The lights are customizable via the Razer Synapse app on your PC.\n",
       "Name: item_description, dtype: object"
      ]
     },
     "execution_count": 20,
     "metadata": {
      "tags": []
     },
     "output_type": "execute_result"
    }
   ],
   "source": [
    "pd.set_option('max_colwidth', 200)\n",
    "\n",
    "# item_description의 평균 문자열 크기\n",
    "print('item_description 평균 문자열 크기:', mercari_df['item_description'].str.len().mean())\n",
    "mercari_df['item_description'][:2]"
   ]
  },
  {
   "cell_type": "markdown",
   "metadata": {
    "colab_type": "text",
    "id": "BXeHpAR47Hhy"
   },
   "source": [
    "**name은 Count로, item_description은 TF-IDF로 피처 벡터화**"
   ]
  },
  {
   "cell_type": "code",
   "execution_count": 21,
   "metadata": {
    "colab": {
     "base_uri": "https://localhost:8080/",
     "height": 55
    },
    "colab_type": "code",
    "id": "TVs6X-4i7DBB",
    "outputId": "f6d0aadf-5f2e-4a3b-a10c-8151736ed73b"
   },
   "outputs": [
    {
     "name": "stdout",
     "output_type": "stream",
     "text": [
      "name vectorization shape: (1482535, 105757)\n",
      "item_description vectorization shape: (1482535, 50000)\n"
     ]
    }
   ],
   "source": [
    "# name 속성에 대한 피처 벡터화 변환\n",
    "cnt_vec=CountVectorizer()\n",
    "X_name=cnt_vec.fit_transform(mercari_df.name)\n",
    "\n",
    "# item_description에 대한 피처 벡터화 변환\n",
    "tfidf_descp=TfidfVectorizer(max_features=50000, ngram_range=(1, 3), stop_words='english')\n",
    "X_descp=tfidf_descp.fit_transform(mercari_df['item_description'])\n",
    "\n",
    "print('name vectorization shape:', X_name.shape)\n",
    "print('item_description vectorization shape:', X_descp.shape)"
   ]
  },
  {
   "cell_type": "markdown",
   "metadata": {
    "colab_type": "text",
    "id": "0ryYgg2F8QVj"
   },
   "source": [
    "**사이킷런의 LabelBinarizer를 이용하여 원-핫 인코딩 변환 후 희소행렬 최적화 형태로 저장**"
   ]
  },
  {
   "cell_type": "code",
   "execution_count": 0,
   "metadata": {
    "colab": {},
    "colab_type": "code",
    "id": "jtyIQvLV71OG"
   },
   "outputs": [],
   "source": [
    "from sklearn.preprocessing import LabelBinarizer\n",
    "\n",
    "# brand_name, item_condition_id, shipping 각 피처들을 희소 행렬 원-핫 인코딩 변환\n",
    "lb_brand_name=LabelBinarizer(sparse_output=True)\n",
    "X_brand=lb_brand_name.fit_transform(mercari_df['brand_name'])\n",
    "\n",
    "lb_item_cond_id=LabelBinarizer(sparse_output=True)\n",
    "X_item_cond_id=lb_item_cond_id.fit_transform(mercari_df['item_condition_id'])\n",
    "\n",
    "lb_shipping=LabelBinarizer(sparse_output=True)\n",
    "X_shipping=lb_shipping.fit_transform(mercari_df['shipping'])\n",
    "\n",
    "# cat_dae, cat_jung, cat_so 각 피처들을 희소 행렬 원-핫 인코딩 변환\n",
    "lb_cat_dae=LabelBinarizer(sparse_output=True)\n",
    "X_cat_dae= lb_cat_dae.fit_transform(mercari_df['cat_dae'])\n",
    "\n",
    "lb_cat_jung = LabelBinarizer(sparse_output=True)\n",
    "X_cat_jung = lb_cat_jung.fit_transform(mercari_df['cat_jung'])\n",
    "\n",
    "lb_cat_so = LabelBinarizer(sparse_output=True)\n",
    "X_cat_so = lb_cat_so.fit_transform(mercari_df['cat_so'])"
   ]
  },
  {
   "cell_type": "code",
   "execution_count": 25,
   "metadata": {
    "colab": {
     "base_uri": "https://localhost:8080/",
     "height": 92
    },
    "colab_type": "code",
    "id": "Bht6OkZS9vi6",
    "outputId": "d26a9da4-d188-4fa2-d344-90d6e0ebbe46"
   },
   "outputs": [
    {
     "name": "stdout",
     "output_type": "stream",
     "text": [
      "<class 'scipy.sparse.csr.csr_matrix'> <class 'scipy.sparse.csr.csr_matrix'> <class 'scipy.sparse.csr.csr_matrix'>\n",
      "X_brand_shape:(1482535, 4810), X_item_cond_id shape:(1482535, 5)\n",
      "X_shipping shape:(1482535, 1), X_cat_dae shape:(1482535, 11)\n",
      "X_cat_jung shape:(1482535, 114), X_cat_so shape:(1482535, 871)\n"
     ]
    }
   ],
   "source": [
    "print(type(X_brand), type(X_item_cond_id), type(X_shipping))\n",
    "print('X_brand_shape:{0}, X_item_cond_id shape:{1}'.format(X_brand.shape, X_item_cond_id.shape))\n",
    "print('X_shipping shape:{0}, X_cat_dae shape:{1}'.format(X_shipping.shape, X_cat_dae.shape))\n",
    "print('X_cat_jung shape:{0}, X_cat_so shape:{1}'.format(X_cat_jung.shape, X_cat_so.shape))"
   ]
  },
  {
   "cell_type": "markdown",
   "metadata": {
    "colab_type": "text",
    "id": "BY6QMFKK966M"
   },
   "source": [
    "**피처 벡터화된 희소 행렬과 원-핫 인코딩된 희소 행렬을 모두 scipy 패키지의 hstack()함수를 이용하여 결합**"
   ]
  },
  {
   "cell_type": "code",
   "execution_count": 26,
   "metadata": {
    "colab": {
     "base_uri": "https://localhost:8080/",
     "height": 36
    },
    "colab_type": "code",
    "id": "enafZonQ96F-",
    "outputId": "ce0154d2-ce8a-4bd4-86d5-7c1d28154af4"
   },
   "outputs": [
    {
     "name": "stdout",
     "output_type": "stream",
     "text": [
      "<class 'scipy.sparse.csr.csr_matrix'> (1482535, 161569)\n"
     ]
    }
   ],
   "source": [
    "from scipy.sparse import hstack\n",
    "import gc\n",
    "\n",
    "sparse_matrix_list=(X_name, X_descp, X_brand, X_item_cond_id, X_shipping, X_cat_dae, X_cat_jung, X_cat_so)\n",
    "\n",
    "# hstack 함수를 이용해 인코딩과 벡터화를 수행한 데이터 세트를 모두 결합\n",
    "X_features_sparse=hstack(sparse_matrix_list).tocsr()\n",
    "print(type(X_features_sparse), X_features_sparse.shape)\n"
   ]
  },
  {
   "cell_type": "markdown",
   "metadata": {
    "colab_type": "text",
    "id": "l0LWE1UH_RYS"
   },
   "source": [
    "**릿지 회귀 모델 구축 및 평가**"
   ]
  },
  {
   "cell_type": "code",
   "execution_count": 0,
   "metadata": {
    "colab": {},
    "colab_type": "code",
    "id": "_HtZe0OI_MJJ"
   },
   "outputs": [],
   "source": [
    "def rmsle(y, y_pred):\n",
    "  # underflow, overflow를 막기 위해 log가 아닌 log1p로 rmsle 계산\n",
    "  return np.sqrt(np.mean(np.power(np.log1p(y)-np.log1p(y_pred), 2)))\n",
    "\n",
    "def evaluate_org_price(y_test, preds):\n",
    "  # 원본 데이터는 log1p로 변환되었으므로 exmpm1로 원복\n",
    "  preds_exmpm=np.expm1(preds)\n",
    "  y_test_exmpm=np.expm1(y_test)\n",
    "\n",
    "  # rmsle로 RMSLE값 추출\n",
    "  rmsle_result=rmsle(y_test_exmpm, preds_exmpm)\n",
    "  return rmsle_result"
   ]
  },
  {
   "cell_type": "markdown",
   "metadata": {
    "colab_type": "text",
    "id": "P47oEAV7APEX"
   },
   "source": [
    "**여러 모델에 대한 학습/예측을 수행하기 위해 별도의 함수인 model_train_predict()생성**\n",
    "\n",
    "해당 함수는 여러 희소 행렬을 hstack()으로 결합한 뒤 학습과 테스트 데이터 세트로 분할 후 모델 학습 및 예측을 수행"
   ]
  },
  {
   "cell_type": "code",
   "execution_count": 0,
   "metadata": {
    "colab": {},
    "colab_type": "code",
    "id": "c9Zw-HfUAH85"
   },
   "outputs": [],
   "source": [
    "from scipy.sparse import hstack\n",
    "\n",
    "def model_train_predict(model, matrix_list):\n",
    "  # scipy.sparse 모듈의 hstack을 이용해 희소행렬 결합\n",
    "  X=hstack(matrix_list).tocsr()\n",
    "  \n",
    "  X_train, X_test, y_train, y_test=train_test_split(X, mercari_df['price'], test_size=0.2, random_state=156)\n",
    "  \n",
    "  # 모델 학습 및 예측\n",
    "  model.fit(X_train, y_train)\n",
    "\n",
    "  preds=model.predict(X_test)\n",
    "\n",
    "  return preds, y_test"
   ]
  },
  {
   "cell_type": "markdown",
   "metadata": {
    "colab_type": "text",
    "id": "yTMVSAJBBAj4"
   },
   "source": [
    "**릿지 선형 회귀로 학습/예측/평가. Item Description 피처의 영향도를 알아보기 위한 테스트 함께 수행**"
   ]
  },
  {
   "cell_type": "code",
   "execution_count": 29,
   "metadata": {
    "colab": {
     "base_uri": "https://localhost:8080/",
     "height": 55
    },
    "colab_type": "code",
    "id": "Sw9LyyCFA7J3",
    "outputId": "f45327ca-123c-4cb7-ea26-5545f541ac28"
   },
   "outputs": [
    {
     "name": "stdout",
     "output_type": "stream",
     "text": [
      "Item Description을 제외했을 때 rmsle 값: 0.5023727038010544\n",
      "Item Description을 포함한 rmsle 값: 0.4712195143433641\n"
     ]
    }
   ],
   "source": [
    "linear_model=Ridge(solver=\"lsqr\", fit_intercept=False)\n",
    "\n",
    "sparse_matrix_list=(X_name, X_brand, X_item_cond_id, X_shipping, X_cat_dae, X_cat_jung, X_cat_so)\n",
    "\n",
    "linear_preds, y_test=model_train_predict(model=linear_model, matrix_list=sparse_matrix_list)\n",
    "print('Item Description을 제외했을 때 rmsle 값:', evaluate_org_price(y_test, linear_preds))\n",
    "\n",
    "sparse_matrix_list = (X_descp, X_name, X_brand, X_item_cond_id,\n",
    "                      X_shipping, X_cat_dae, X_cat_jung, X_cat_so)\n",
    "linear_preds , y_test = model_train_predict(model=linear_model , matrix_list=sparse_matrix_list)\n",
    "print('Item Description을 포함한 rmsle 값:',  evaluate_org_price(y_test ,linear_preds))"
   ]
  },
  {
   "cell_type": "markdown",
   "metadata": {
    "colab_type": "text",
    "id": "YN1P1DmKCqz6"
   },
   "source": [
    "**LightGBM 회귀 모델 구축과 앙상블을 이용한 최종 예측 평가**"
   ]
  },
  {
   "cell_type": "code",
   "execution_count": 30,
   "metadata": {
    "colab": {
     "base_uri": "https://localhost:8080/",
     "height": 36
    },
    "colab_type": "code",
    "id": "QXWdxLXCCorl",
    "outputId": "bbf99c97-d01a-4666-f346-5dc6c2e0fa62"
   },
   "outputs": [
    {
     "name": "stdout",
     "output_type": "stream",
     "text": [
      "LightGBM rmsle 값: 0.45719580244261243\n"
     ]
    }
   ],
   "source": [
    "from lightgbm import LGBMRegressor\n",
    "\n",
    "sparse_matrix_list = (X_descp, X_name, X_brand, X_item_cond_id,\n",
    "                      X_shipping, X_cat_dae, X_cat_jung, X_cat_so)\n",
    "\n",
    "lgbm_model = LGBMRegressor(n_estimators=200, learning_rate=0.5, num_leaves=125, random_state=156)\n",
    "lgbm_preds , y_test = model_train_predict(model = lgbm_model , matrix_list=sparse_matrix_list)\n",
    "print('LightGBM rmsle 값:',  evaluate_org_price(y_test , lgbm_preds))"
   ]
  },
  {
   "cell_type": "code",
   "execution_count": 31,
   "metadata": {
    "colab": {
     "base_uri": "https://localhost:8080/",
     "height": 36
    },
    "colab_type": "code",
    "id": "bpRpFJvoDBhI",
    "outputId": "f529908b-21f0-40ea-c8b2-a6fbf0769eba"
   },
   "outputs": [
    {
     "name": "stdout",
     "output_type": "stream",
     "text": [
      "LightGBM과 Ridge를 앙상블한 최종 RMSLE 값: 0.4507259214329315\n"
     ]
    }
   ],
   "source": [
    "preds=lgbm_preds*0.45+linear_preds*0.55\n",
    "print('LightGBM과 Ridge를 앙상블한 최종 RMSLE 값:', evaluate_org_price(y_test, preds))"
   ]
  },
  {
   "cell_type": "code",
   "execution_count": 0,
   "metadata": {
    "colab": {},
    "colab_type": "code",
    "id": "mrIJNzGZKhgb"
   },
   "outputs": [],
   "source": []
  }
 ],
 "metadata": {
  "colab": {
   "name": "Untitled0.ipynb",
   "provenance": []
  },
  "kernelspec": {
   "display_name": "Python 3",
   "language": "python",
   "name": "python3"
  },
  "language_info": {
   "codemirror_mode": {
    "name": "ipython",
    "version": 3
   },
   "file_extension": ".py",
   "mimetype": "text/x-python",
   "name": "python",
   "nbconvert_exporter": "python",
   "pygments_lexer": "ipython3",
   "version": "3.6.9"
  }
 },
 "nbformat": 4,
 "nbformat_minor": 1
}
